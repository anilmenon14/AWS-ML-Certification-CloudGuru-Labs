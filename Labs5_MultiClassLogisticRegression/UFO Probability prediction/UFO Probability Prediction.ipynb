{
 "cells": [
  {
   "cell_type": "code",
   "execution_count": 610,
   "metadata": {},
   "outputs": [],
   "source": [
    "%matplotlib inline\n",
    "from sklearn.model_selection import train_test_split\n",
    "import pandas as pd\n",
    "import numpy as np\n",
    "import seaborn as sns\n",
    "from sklearn import linear_model\n",
    "from sklearn import metrics\n",
    "from sklearn.preprocessing import OneHotEncoder,LabelEncoder\n",
    "import xgboost as xgb"
   ]
  },
  {
   "cell_type": "code",
   "execution_count": 611,
   "metadata": {},
   "outputs": [],
   "source": [
    "#Dataset has 'NaN' values , hence dropping them\n",
    "ufodata = pd.read_csv('ufodata.csv',delimiter=',').dropna().values"
   ]
  },
  {
   "cell_type": "code",
   "execution_count": 612,
   "metadata": {},
   "outputs": [
    {
     "data": {
      "text/plain": [
       "(17998, 15)"
      ]
     },
     "execution_count": 612,
     "metadata": {},
     "output_type": "execute_result"
    }
   ],
   "source": [
    "#Find shape. Note that last column is the label\n",
    "ufodata.shape"
   ]
  },
  {
   "cell_type": "code",
   "execution_count": 613,
   "metadata": {},
   "outputs": [],
   "source": [
    "ufodata_features, ufodata_labels = ufodata[:,:14],ufodata[:,14]"
   ]
  },
  {
   "cell_type": "code",
   "execution_count": 614,
   "metadata": {},
   "outputs": [],
   "source": [
    "## Convert labels to numeric\n",
    "#Start with mapping label text to a number\n",
    "label_map = {}\n",
    "count = 0\n",
    "for ot in np.unique(ufodata_labels):\n",
    "    label_map[ot] = count\n",
    "    count += 1\n",
    "\n",
    "#Update ufodata_labels to the numbers\n",
    "ufodata_labels = np.array([label_map[item]  for item in ufodata_labels])"
   ]
  },
  {
   "cell_type": "markdown",
   "metadata": {},
   "source": [
    "### Approach # 1:\n",
    "\n",
    "#### Use One-Hot-encoding to create new columns to be in place of those columns containing string categorical data"
   ]
  },
  {
   "cell_type": "code",
   "execution_count": 618,
   "metadata": {},
   "outputs": [
    {
     "data": {
      "text/html": [
       "<div>\n",
       "<style scoped>\n",
       "    .dataframe tbody tr th:only-of-type {\n",
       "        vertical-align: middle;\n",
       "    }\n",
       "\n",
       "    .dataframe tbody tr th {\n",
       "        vertical-align: top;\n",
       "    }\n",
       "\n",
       "    .dataframe thead th {\n",
       "        text-align: right;\n",
       "    }\n",
       "</style>\n",
       "<table border=\"1\" class=\"dataframe\">\n",
       "  <thead>\n",
       "    <tr style=\"text-align: right;\">\n",
       "      <th></th>\n",
       "      <th>3</th>\n",
       "      <th>4</th>\n",
       "      <th>5</th>\n",
       "      <th>6</th>\n",
       "      <th>9</th>\n",
       "      <th>10</th>\n",
       "      <th>12</th>\n",
       "      <th>13</th>\n",
       "    </tr>\n",
       "  </thead>\n",
       "  <tbody>\n",
       "    <tr>\n",
       "      <th>0</th>\n",
       "      <td>circle</td>\n",
       "      <td>4</td>\n",
       "      <td>1</td>\n",
       "      <td>rain</td>\n",
       "      <td>47.3294</td>\n",
       "      <td>-122.579</td>\n",
       "      <td>N</td>\n",
       "      <td>N</td>\n",
       "    </tr>\n",
       "    <tr>\n",
       "      <th>1</th>\n",
       "      <td>disk</td>\n",
       "      <td>4</td>\n",
       "      <td>1</td>\n",
       "      <td>partly cloudy</td>\n",
       "      <td>52.6649</td>\n",
       "      <td>-1.03489</td>\n",
       "      <td>Y</td>\n",
       "      <td>N</td>\n",
       "    </tr>\n",
       "    <tr>\n",
       "      <th>2</th>\n",
       "      <td>circle</td>\n",
       "      <td>49</td>\n",
       "      <td>1</td>\n",
       "      <td>clear</td>\n",
       "      <td>38.9517</td>\n",
       "      <td>-92.3339</td>\n",
       "      <td>N</td>\n",
       "      <td>N</td>\n",
       "    </tr>\n",
       "    <tr>\n",
       "      <th>3</th>\n",
       "      <td>disk</td>\n",
       "      <td>13</td>\n",
       "      <td>1</td>\n",
       "      <td>partly cloudy</td>\n",
       "      <td>41.4969</td>\n",
       "      <td>-71.3678</td>\n",
       "      <td>N</td>\n",
       "      <td>N</td>\n",
       "    </tr>\n",
       "    <tr>\n",
       "      <th>4</th>\n",
       "      <td>circle</td>\n",
       "      <td>17</td>\n",
       "      <td>1</td>\n",
       "      <td>mostly cloudy</td>\n",
       "      <td>47.6064</td>\n",
       "      <td>-122.331</td>\n",
       "      <td>N</td>\n",
       "      <td>N</td>\n",
       "    </tr>\n",
       "    <tr>\n",
       "      <th>...</th>\n",
       "      <td>...</td>\n",
       "      <td>...</td>\n",
       "      <td>...</td>\n",
       "      <td>...</td>\n",
       "      <td>...</td>\n",
       "      <td>...</td>\n",
       "      <td>...</td>\n",
       "      <td>...</td>\n",
       "    </tr>\n",
       "    <tr>\n",
       "      <th>17993</th>\n",
       "      <td>square</td>\n",
       "      <td>95</td>\n",
       "      <td>10</td>\n",
       "      <td>snow</td>\n",
       "      <td>42.0333</td>\n",
       "      <td>-87.7333</td>\n",
       "      <td>N</td>\n",
       "      <td>N</td>\n",
       "    </tr>\n",
       "    <tr>\n",
       "      <th>17994</th>\n",
       "      <td>circle</td>\n",
       "      <td>55</td>\n",
       "      <td>10</td>\n",
       "      <td>stormy</td>\n",
       "      <td>43.0044</td>\n",
       "      <td>-71.3489</td>\n",
       "      <td>N</td>\n",
       "      <td>N</td>\n",
       "    </tr>\n",
       "    <tr>\n",
       "      <th>17995</th>\n",
       "      <td>circle</td>\n",
       "      <td>39</td>\n",
       "      <td>10</td>\n",
       "      <td>partly cloudy</td>\n",
       "      <td>36.8664</td>\n",
       "      <td>-83.8889</td>\n",
       "      <td>N</td>\n",
       "      <td>N</td>\n",
       "    </tr>\n",
       "    <tr>\n",
       "      <th>17996</th>\n",
       "      <td>square</td>\n",
       "      <td>28</td>\n",
       "      <td>10</td>\n",
       "      <td>snow</td>\n",
       "      <td>35.3858</td>\n",
       "      <td>-94.3983</td>\n",
       "      <td>N</td>\n",
       "      <td>N</td>\n",
       "    </tr>\n",
       "    <tr>\n",
       "      <th>17997</th>\n",
       "      <td>circle</td>\n",
       "      <td>38</td>\n",
       "      <td>10</td>\n",
       "      <td>snow</td>\n",
       "      <td>29.8831</td>\n",
       "      <td>-97.9411</td>\n",
       "      <td>N</td>\n",
       "      <td>N</td>\n",
       "    </tr>\n",
       "  </tbody>\n",
       "</table>\n",
       "<p>17998 rows × 8 columns</p>\n",
       "</div>"
      ],
      "text/plain": [
       "           3   4   5              6        9        10 12 13\n",
       "0      circle   4   1           rain  47.3294 -122.579  N  N\n",
       "1        disk   4   1  partly cloudy  52.6649 -1.03489  Y  N\n",
       "2      circle  49   1          clear  38.9517 -92.3339  N  N\n",
       "3        disk  13   1  partly cloudy  41.4969 -71.3678  N  N\n",
       "4      circle  17   1  mostly cloudy  47.6064 -122.331  N  N\n",
       "...       ...  ..  ..            ...      ...      ... .. ..\n",
       "17993  square  95  10           snow  42.0333 -87.7333  N  N\n",
       "17994  circle  55  10         stormy  43.0044 -71.3489  N  N\n",
       "17995  circle  39  10  partly cloudy  36.8664 -83.8889  N  N\n",
       "17996  square  28  10           snow  35.3858 -94.3983  N  N\n",
       "17997  circle  38  10           snow  29.8831 -97.9411  N  N\n",
       "\n",
       "[17998 rows x 8 columns]"
      ]
     },
     "execution_count": 618,
     "metadata": {},
     "output_type": "execute_result"
    }
   ],
   "source": [
    "#Filter to columns we are interested in the ufodata_features\n",
    "df = pd.DataFrame(ufodata_features)\n",
    "ufo_features_df = df[[3,4,5,6,9,10,12,13]]\n",
    "ufo_features_df"
   ]
  },
  {
   "cell_type": "markdown",
   "metadata": {},
   "source": [
    "#### Since most of the columns are text , will need to encode them to a numeric value. Since the number of categories in each are relatively low, will attempt to try this as One-hot encoding"
   ]
  },
  {
   "cell_type": "markdown",
   "metadata": {},
   "source": [
    "#### Next, will need to pick out each of the string columns and have them one-hot-encoded, which will result in several columns that we have to insert back into the ufo_features_df dataframe and remove the original string column. Since we have several columns, will achieve this through a loop\n",
    "\n",
    "##### Note: The reshape(-1,1) is being done to achieve the operation of converting the 1-D array to a 2-D array\n",
    "\n",
    "##### From: \n",
    "\n",
    "`\n",
    "array(['triangle', 'light', 'disk', ..., 'square', 'circle', 'square'],\n",
    "      dtype=object)\n",
    "`\n",
    "##### To: \n",
    "`\n",
    "array([['triangle'],\n",
    "       ['light'],\n",
    "       ['disk'],\n",
    "       ...,\n",
    "       ['square'],\n",
    "       ['circle'],\n",
    "       ['square']], dtype=object)\n",
    "`\n",
    "\n",
    "#### 3,6,11,12,13 are the columns which need to be worked on"
   ]
  },
  {
   "cell_type": "code",
   "execution_count": 619,
   "metadata": {},
   "outputs": [
    {
     "data": {
      "text/html": [
       "<div>\n",
       "<style scoped>\n",
       "    .dataframe tbody tr th:only-of-type {\n",
       "        vertical-align: middle;\n",
       "    }\n",
       "\n",
       "    .dataframe tbody tr th {\n",
       "        vertical-align: top;\n",
       "    }\n",
       "\n",
       "    .dataframe thead th {\n",
       "        text-align: right;\n",
       "    }\n",
       "</style>\n",
       "<table border=\"1\" class=\"dataframe\">\n",
       "  <thead>\n",
       "    <tr style=\"text-align: right;\">\n",
       "      <th></th>\n",
       "      <th>4</th>\n",
       "      <th>5</th>\n",
       "      <th>9</th>\n",
       "      <th>10</th>\n",
       "      <th>Col_3_0</th>\n",
       "      <th>Col_3_1</th>\n",
       "      <th>Col_3_2</th>\n",
       "      <th>Col_3_3</th>\n",
       "      <th>Col_3_4</th>\n",
       "      <th>Col_3_5</th>\n",
       "      <th>...</th>\n",
       "      <th>Col_6_1</th>\n",
       "      <th>Col_6_2</th>\n",
       "      <th>Col_6_3</th>\n",
       "      <th>Col_6_4</th>\n",
       "      <th>Col_6_5</th>\n",
       "      <th>Col_6_6</th>\n",
       "      <th>Col_12_0</th>\n",
       "      <th>Col_12_1</th>\n",
       "      <th>Col_13_0</th>\n",
       "      <th>Col_13_1</th>\n",
       "    </tr>\n",
       "  </thead>\n",
       "  <tbody>\n",
       "    <tr>\n",
       "      <th>0</th>\n",
       "      <td>4</td>\n",
       "      <td>1</td>\n",
       "      <td>47.3294</td>\n",
       "      <td>-122.579</td>\n",
       "      <td>0.0</td>\n",
       "      <td>1.0</td>\n",
       "      <td>0.0</td>\n",
       "      <td>0.0</td>\n",
       "      <td>0.0</td>\n",
       "      <td>0.0</td>\n",
       "      <td>...</td>\n",
       "      <td>0.0</td>\n",
       "      <td>0.0</td>\n",
       "      <td>0.0</td>\n",
       "      <td>1.0</td>\n",
       "      <td>0.0</td>\n",
       "      <td>0.0</td>\n",
       "      <td>1.0</td>\n",
       "      <td>0.0</td>\n",
       "      <td>1.0</td>\n",
       "      <td>0.0</td>\n",
       "    </tr>\n",
       "    <tr>\n",
       "      <th>1</th>\n",
       "      <td>4</td>\n",
       "      <td>1</td>\n",
       "      <td>52.6649</td>\n",
       "      <td>-1.03489</td>\n",
       "      <td>0.0</td>\n",
       "      <td>0.0</td>\n",
       "      <td>1.0</td>\n",
       "      <td>0.0</td>\n",
       "      <td>0.0</td>\n",
       "      <td>0.0</td>\n",
       "      <td>...</td>\n",
       "      <td>0.0</td>\n",
       "      <td>0.0</td>\n",
       "      <td>1.0</td>\n",
       "      <td>0.0</td>\n",
       "      <td>0.0</td>\n",
       "      <td>0.0</td>\n",
       "      <td>0.0</td>\n",
       "      <td>1.0</td>\n",
       "      <td>1.0</td>\n",
       "      <td>0.0</td>\n",
       "    </tr>\n",
       "    <tr>\n",
       "      <th>2</th>\n",
       "      <td>49</td>\n",
       "      <td>1</td>\n",
       "      <td>38.9517</td>\n",
       "      <td>-92.3339</td>\n",
       "      <td>0.0</td>\n",
       "      <td>1.0</td>\n",
       "      <td>0.0</td>\n",
       "      <td>0.0</td>\n",
       "      <td>0.0</td>\n",
       "      <td>0.0</td>\n",
       "      <td>...</td>\n",
       "      <td>0.0</td>\n",
       "      <td>0.0</td>\n",
       "      <td>0.0</td>\n",
       "      <td>0.0</td>\n",
       "      <td>0.0</td>\n",
       "      <td>0.0</td>\n",
       "      <td>1.0</td>\n",
       "      <td>0.0</td>\n",
       "      <td>1.0</td>\n",
       "      <td>0.0</td>\n",
       "    </tr>\n",
       "    <tr>\n",
       "      <th>3</th>\n",
       "      <td>13</td>\n",
       "      <td>1</td>\n",
       "      <td>41.4969</td>\n",
       "      <td>-71.3678</td>\n",
       "      <td>0.0</td>\n",
       "      <td>0.0</td>\n",
       "      <td>1.0</td>\n",
       "      <td>0.0</td>\n",
       "      <td>0.0</td>\n",
       "      <td>0.0</td>\n",
       "      <td>...</td>\n",
       "      <td>0.0</td>\n",
       "      <td>0.0</td>\n",
       "      <td>1.0</td>\n",
       "      <td>0.0</td>\n",
       "      <td>0.0</td>\n",
       "      <td>0.0</td>\n",
       "      <td>1.0</td>\n",
       "      <td>0.0</td>\n",
       "      <td>1.0</td>\n",
       "      <td>0.0</td>\n",
       "    </tr>\n",
       "    <tr>\n",
       "      <th>4</th>\n",
       "      <td>17</td>\n",
       "      <td>1</td>\n",
       "      <td>47.6064</td>\n",
       "      <td>-122.331</td>\n",
       "      <td>0.0</td>\n",
       "      <td>1.0</td>\n",
       "      <td>0.0</td>\n",
       "      <td>0.0</td>\n",
       "      <td>0.0</td>\n",
       "      <td>0.0</td>\n",
       "      <td>...</td>\n",
       "      <td>0.0</td>\n",
       "      <td>1.0</td>\n",
       "      <td>0.0</td>\n",
       "      <td>0.0</td>\n",
       "      <td>0.0</td>\n",
       "      <td>0.0</td>\n",
       "      <td>1.0</td>\n",
       "      <td>0.0</td>\n",
       "      <td>1.0</td>\n",
       "      <td>0.0</td>\n",
       "    </tr>\n",
       "    <tr>\n",
       "      <th>...</th>\n",
       "      <td>...</td>\n",
       "      <td>...</td>\n",
       "      <td>...</td>\n",
       "      <td>...</td>\n",
       "      <td>...</td>\n",
       "      <td>...</td>\n",
       "      <td>...</td>\n",
       "      <td>...</td>\n",
       "      <td>...</td>\n",
       "      <td>...</td>\n",
       "      <td>...</td>\n",
       "      <td>...</td>\n",
       "      <td>...</td>\n",
       "      <td>...</td>\n",
       "      <td>...</td>\n",
       "      <td>...</td>\n",
       "      <td>...</td>\n",
       "      <td>...</td>\n",
       "      <td>...</td>\n",
       "      <td>...</td>\n",
       "      <td>...</td>\n",
       "    </tr>\n",
       "    <tr>\n",
       "      <th>17993</th>\n",
       "      <td>95</td>\n",
       "      <td>10</td>\n",
       "      <td>42.0333</td>\n",
       "      <td>-87.7333</td>\n",
       "      <td>0.0</td>\n",
       "      <td>0.0</td>\n",
       "      <td>0.0</td>\n",
       "      <td>0.0</td>\n",
       "      <td>0.0</td>\n",
       "      <td>0.0</td>\n",
       "      <td>...</td>\n",
       "      <td>0.0</td>\n",
       "      <td>0.0</td>\n",
       "      <td>0.0</td>\n",
       "      <td>0.0</td>\n",
       "      <td>1.0</td>\n",
       "      <td>0.0</td>\n",
       "      <td>1.0</td>\n",
       "      <td>0.0</td>\n",
       "      <td>1.0</td>\n",
       "      <td>0.0</td>\n",
       "    </tr>\n",
       "    <tr>\n",
       "      <th>17994</th>\n",
       "      <td>55</td>\n",
       "      <td>10</td>\n",
       "      <td>43.0044</td>\n",
       "      <td>-71.3489</td>\n",
       "      <td>0.0</td>\n",
       "      <td>1.0</td>\n",
       "      <td>0.0</td>\n",
       "      <td>0.0</td>\n",
       "      <td>0.0</td>\n",
       "      <td>0.0</td>\n",
       "      <td>...</td>\n",
       "      <td>0.0</td>\n",
       "      <td>0.0</td>\n",
       "      <td>0.0</td>\n",
       "      <td>0.0</td>\n",
       "      <td>0.0</td>\n",
       "      <td>1.0</td>\n",
       "      <td>1.0</td>\n",
       "      <td>0.0</td>\n",
       "      <td>1.0</td>\n",
       "      <td>0.0</td>\n",
       "    </tr>\n",
       "    <tr>\n",
       "      <th>17995</th>\n",
       "      <td>39</td>\n",
       "      <td>10</td>\n",
       "      <td>36.8664</td>\n",
       "      <td>-83.8889</td>\n",
       "      <td>0.0</td>\n",
       "      <td>1.0</td>\n",
       "      <td>0.0</td>\n",
       "      <td>0.0</td>\n",
       "      <td>0.0</td>\n",
       "      <td>0.0</td>\n",
       "      <td>...</td>\n",
       "      <td>0.0</td>\n",
       "      <td>0.0</td>\n",
       "      <td>1.0</td>\n",
       "      <td>0.0</td>\n",
       "      <td>0.0</td>\n",
       "      <td>0.0</td>\n",
       "      <td>1.0</td>\n",
       "      <td>0.0</td>\n",
       "      <td>1.0</td>\n",
       "      <td>0.0</td>\n",
       "    </tr>\n",
       "    <tr>\n",
       "      <th>17996</th>\n",
       "      <td>28</td>\n",
       "      <td>10</td>\n",
       "      <td>35.3858</td>\n",
       "      <td>-94.3983</td>\n",
       "      <td>0.0</td>\n",
       "      <td>0.0</td>\n",
       "      <td>0.0</td>\n",
       "      <td>0.0</td>\n",
       "      <td>0.0</td>\n",
       "      <td>0.0</td>\n",
       "      <td>...</td>\n",
       "      <td>0.0</td>\n",
       "      <td>0.0</td>\n",
       "      <td>0.0</td>\n",
       "      <td>0.0</td>\n",
       "      <td>1.0</td>\n",
       "      <td>0.0</td>\n",
       "      <td>1.0</td>\n",
       "      <td>0.0</td>\n",
       "      <td>1.0</td>\n",
       "      <td>0.0</td>\n",
       "    </tr>\n",
       "    <tr>\n",
       "      <th>17997</th>\n",
       "      <td>38</td>\n",
       "      <td>10</td>\n",
       "      <td>29.8831</td>\n",
       "      <td>-97.9411</td>\n",
       "      <td>0.0</td>\n",
       "      <td>1.0</td>\n",
       "      <td>0.0</td>\n",
       "      <td>0.0</td>\n",
       "      <td>0.0</td>\n",
       "      <td>0.0</td>\n",
       "      <td>...</td>\n",
       "      <td>0.0</td>\n",
       "      <td>0.0</td>\n",
       "      <td>0.0</td>\n",
       "      <td>0.0</td>\n",
       "      <td>1.0</td>\n",
       "      <td>0.0</td>\n",
       "      <td>1.0</td>\n",
       "      <td>0.0</td>\n",
       "      <td>1.0</td>\n",
       "      <td>0.0</td>\n",
       "    </tr>\n",
       "  </tbody>\n",
       "</table>\n",
       "<p>17998 rows × 24 columns</p>\n",
       "</div>"
      ],
      "text/plain": [
       "        4   5        9       10  Col_3_0  Col_3_1  Col_3_2  Col_3_3  Col_3_4  \\\n",
       "0       4   1  47.3294 -122.579      0.0      1.0      0.0      0.0      0.0   \n",
       "1       4   1  52.6649 -1.03489      0.0      0.0      1.0      0.0      0.0   \n",
       "2      49   1  38.9517 -92.3339      0.0      1.0      0.0      0.0      0.0   \n",
       "3      13   1  41.4969 -71.3678      0.0      0.0      1.0      0.0      0.0   \n",
       "4      17   1  47.6064 -122.331      0.0      1.0      0.0      0.0      0.0   \n",
       "...    ..  ..      ...      ...      ...      ...      ...      ...      ...   \n",
       "17993  95  10  42.0333 -87.7333      0.0      0.0      0.0      0.0      0.0   \n",
       "17994  55  10  43.0044 -71.3489      0.0      1.0      0.0      0.0      0.0   \n",
       "17995  39  10  36.8664 -83.8889      0.0      1.0      0.0      0.0      0.0   \n",
       "17996  28  10  35.3858 -94.3983      0.0      0.0      0.0      0.0      0.0   \n",
       "17997  38  10  29.8831 -97.9411      0.0      1.0      0.0      0.0      0.0   \n",
       "\n",
       "       Col_3_5  ...  Col_6_1  Col_6_2  Col_6_3  Col_6_4  Col_6_5  Col_6_6  \\\n",
       "0          0.0  ...      0.0      0.0      0.0      1.0      0.0      0.0   \n",
       "1          0.0  ...      0.0      0.0      1.0      0.0      0.0      0.0   \n",
       "2          0.0  ...      0.0      0.0      0.0      0.0      0.0      0.0   \n",
       "3          0.0  ...      0.0      0.0      1.0      0.0      0.0      0.0   \n",
       "4          0.0  ...      0.0      1.0      0.0      0.0      0.0      0.0   \n",
       "...        ...  ...      ...      ...      ...      ...      ...      ...   \n",
       "17993      0.0  ...      0.0      0.0      0.0      0.0      1.0      0.0   \n",
       "17994      0.0  ...      0.0      0.0      0.0      0.0      0.0      1.0   \n",
       "17995      0.0  ...      0.0      0.0      1.0      0.0      0.0      0.0   \n",
       "17996      0.0  ...      0.0      0.0      0.0      0.0      1.0      0.0   \n",
       "17997      0.0  ...      0.0      0.0      0.0      0.0      1.0      0.0   \n",
       "\n",
       "       Col_12_0  Col_12_1  Col_13_0  Col_13_1  \n",
       "0           1.0       0.0       1.0       0.0  \n",
       "1           0.0       1.0       1.0       0.0  \n",
       "2           1.0       0.0       1.0       0.0  \n",
       "3           1.0       0.0       1.0       0.0  \n",
       "4           1.0       0.0       1.0       0.0  \n",
       "...         ...       ...       ...       ...  \n",
       "17993       1.0       0.0       1.0       0.0  \n",
       "17994       1.0       0.0       1.0       0.0  \n",
       "17995       1.0       0.0       1.0       0.0  \n",
       "17996       1.0       0.0       1.0       0.0  \n",
       "17997       1.0       0.0       1.0       0.0  \n",
       "\n",
       "[17998 rows x 24 columns]"
      ]
     },
     "execution_count": 619,
     "metadata": {},
     "output_type": "execute_result"
    }
   ],
   "source": [
    "# Loop over all the text columns, One-Hot-Encode them , add them into the main features dataframe and then remove text columns\n",
    "cols = ufo_features_df[[3,6,12,13]].columns\n",
    "for i in cols:\n",
    "    # Initialize a One hot encoder object\n",
    "    ohe = OneHotEncoder();\n",
    "    # Run the ohe function to transform each column (i.e 'i') and get data returned as an array of arrays\n",
    "    encodedColumns = ohe.fit_transform(ufo_features_df[i].values.reshape(-1,1)).toarray()\n",
    "    # Insert columns generated into parent DF\n",
    "    dfOneHotEnc = pd.DataFrame(encodedColumns,columns = [\"Col_{}_{}\".format(i,j) for j in range(encodedColumns.shape[1])])\n",
    "    # Add the one hot encoded rows into the train features dataframe\n",
    "    ufo_features_df = pd.concat([ufo_features_df,dfOneHotEnc],axis=1)\n",
    "    # Dropping the text column \n",
    "    ufo_features_df = ufo_features_df.drop([i],axis=1)\n",
    "    \n",
    "#Display the finalized dataframe that has been One-Hot-Encoded\n",
    "ufo_features_df"
   ]
  },
  {
   "cell_type": "code",
   "execution_count": 620,
   "metadata": {},
   "outputs": [],
   "source": [
    "# Cast back values as the ufodata_features array.\n",
    "ufodata_features_ohe = ufo_features_df.values"
   ]
  },
  {
   "cell_type": "code",
   "execution_count": 621,
   "metadata": {},
   "outputs": [],
   "source": [
    "#Split the dataset 85% to 15%\n",
    "np.random.seed(0)\n",
    "train_features,test_features,train_labels,test_labels = train_test_split(ufodata_features_ohe,ufodata_labels,test_size=0.20)"
   ]
  },
  {
   "cell_type": "code",
   "execution_count": 622,
   "metadata": {},
   "outputs": [
    {
     "data": {
      "text/plain": [
       "(0.7999777753083676, 0.20002222469163242)"
      ]
     },
     "execution_count": 622,
     "metadata": {},
     "output_type": "execute_result"
    }
   ],
   "source": [
    "#Confirmation of split of data between Train and Test\n",
    "totaldata= train_features.shape[0]+test_features.shape[0]\n",
    "datasetsplit = (train_features.shape[0]/totaldata,test_features.shape[0]/totaldata)\n",
    "datasetsplit"
   ]
  },
  {
   "cell_type": "code",
   "execution_count": 623,
   "metadata": {},
   "outputs": [],
   "source": [
    "#reverse the dictionary items in label_map to use in the label_counts to plot\n",
    "reverse_label_map = {v:k for k,v in label_map.items()}"
   ]
  },
  {
   "cell_type": "code",
   "execution_count": 624,
   "metadata": {},
   "outputs": [
    {
     "data": {
      "text/plain": [
       "<AxesSubplot:title={'center':'Label Counts'}>"
      ]
     },
     "execution_count": 624,
     "metadata": {},
     "output_type": "execute_result"
    },
    {
     "data": {
      "image/png": "[encoded data removed]",
      "text/plain": [
       "<Figure size 432x288 with 1 Axes>"
      ]
     },
     "metadata": {
      "needs_background": "light"
     },
     "output_type": "display_data"
    }
   ],
   "source": [
    "label_counts = pd.DataFrame(data=train_labels)[0].map(reverse_label_map).value_counts(sort=False).sort_index(ascending=False)\n",
    "label_counts.plot(kind='barh', color='purple', title='Label Counts')"
   ]
  },
  {
   "cell_type": "code",
   "execution_count": 625,
   "metadata": {},
   "outputs": [
    {
     "name": "stdout",
     "output_type": "stream",
     "text": [
      "Wall time: 5.61 s\n"
     ]
    },
    {
     "data": {
      "text/plain": [
       "LogisticRegressionCV(cv=5, multi_class='ovr', solver='liblinear')"
      ]
     },
     "execution_count": 625,
     "metadata": {},
     "output_type": "execute_result"
    }
   ],
   "source": [
    "%%time\n",
    "#Train the model using 'One vs rest' classifier\n",
    "lm_ohe = linear_model.LogisticRegressionCV(cv=5,multi_class='ovr', solver='liblinear')\n",
    "lm_ohe.fit(train_features, train_labels)"
   ]
  },
  {
   "cell_type": "code",
   "execution_count": 626,
   "metadata": {},
   "outputs": [
    {
     "name": "stdout",
     "output_type": "stream",
     "text": [
      "Predicted value is : 1\n",
      "Actual value is : 1\n"
     ]
    }
   ],
   "source": [
    "# Test on a random test row. In this example the 1000th row was chosen\n",
    "print('Predicted value is : {}'.format(lm_ohe.predict([test_features[1000,:]])[0]))\n",
    "print('Actual value is : {}'.format(test_labels[1000]))"
   ]
  },
  {
   "cell_type": "code",
   "execution_count": 627,
   "metadata": {},
   "outputs": [
    {
     "name": "stdout",
     "output_type": "stream",
     "text": [
      "Accuracy is : 94.44444444444444 %\n"
     ]
    }
   ],
   "source": [
    "#Calculate percentage of accurate predictions on test set\n",
    "accuracy = lm_ohe.score(test_features,test_labels)\n",
    "print(\"Accuracy is : {} %\".format(accuracy*100))"
   ]
  },
  {
   "cell_type": "code",
   "execution_count": 628,
   "metadata": {
    "scrolled": true
   },
   "outputs": [
    {
     "name": "stdout",
     "output_type": "stream",
     "text": [
      "              precision    recall  f1-score   support\n",
      "\n",
      "           0       0.98      0.96      0.97      2562\n",
      "           1       0.80      0.91      0.85       375\n",
      "           2       0.91      0.91      0.91       663\n",
      "\n",
      "    accuracy                           0.94      3600\n",
      "   macro avg       0.90      0.93      0.91      3600\n",
      "weighted avg       0.95      0.94      0.95      3600\n",
      "\n"
     ]
    }
   ],
   "source": [
    "print(metrics.classification_report(test_labels, lm_ohe.predict(test_features)))"
   ]
  },
  {
   "cell_type": "code",
   "execution_count": 585,
   "metadata": {},
   "outputs": [],
   "source": [
    "def evaluate_metrics(predictor, test_features, test_labels):\n",
    "    \"\"\"\n",
    "    Evaluate a model on a test set using the given prediction endpoint. Display classification metrics.\n",
    "    \"\"\"\n",
    "    # split the test dataset into 100 batches and evaluate using prediction endpoint\n",
    "    prediction_batches = [predictor.predict(batch) for batch in np.array_split(test_features, 100)]\n",
    "\n",
    "    # parse protobuf responses to extract predicted labels\n",
    "    test_preds = np.concatenate([np.array([x for x in batch]) for batch in prediction_batches])\n",
    "    test_preds = test_preds.reshape((-1,))\n",
    "    \n",
    "    # calculate accuracy\n",
    "    accuracy = (test_preds == test_labels).sum() / test_labels.shape[0]\n",
    "    \n",
    "    # calculate recall for each class\n",
    "    recall_per_class, classes = [], []\n",
    "    for target_label in np.unique(test_labels):\n",
    "        recall_numerator = np.logical_and(test_preds == target_label, test_labels == target_label).sum()\n",
    "        recall_denominator = (test_labels == target_label).sum()\n",
    "        recall_per_class.append(recall_numerator / recall_denominator)\n",
    "        classes.append(reverse_label_map[target_label])\n",
    "    recall = pd.DataFrame({'recall': recall_per_class, 'class_label': classes})\n",
    "    recall.sort_values('class_label', ascending=False, inplace=True)\n",
    "\n",
    "    # calculate confusion matrix\n",
    "    label_mapper = np.vectorize(lambda x: reverse_label_map[x])\n",
    "    confusion_matrix = pd.crosstab(label_mapper(test_labels), label_mapper(test_preds), \n",
    "                                   rownames=['Actuals'], colnames=['Predictions'], normalize='index')\n",
    "\n",
    "    # display results\n",
    "    sns.heatmap(confusion_matrix, annot=True, fmt='.2f', cmap=\"YlGnBu\").set_title('Confusion Matrix')  \n",
    "    ax = recall.plot(kind='barh', x='class_label', y='recall', color='steelblue', title='Recall', legend=False)\n",
    "    ax.set_ylabel('')\n",
    "    print('Accuracy: {:.3f}'.format(accuracy))"
   ]
  },
  {
   "cell_type": "code",
   "execution_count": 629,
   "metadata": {},
   "outputs": [
    {
     "name": "stdout",
     "output_type": "stream",
     "text": [
      "Accuracy: 0.944\n"
     ]
    },
    {
     "data": {
      "image/png": "[encoded data removed]",
      "text/plain": [
       "<Figure size 432x288 with 2 Axes>"
      ]
     },
     "metadata": {
      "needs_background": "light"
     },
     "output_type": "display_data"
    },
    {
     "data": {
      "image/png": "[encoded data removed]",
      "text/plain": [
       "<Figure size 432x288 with 1 Axes>"
      ]
     },
     "metadata": {
      "needs_background": "light"
     },
     "output_type": "display_data"
    }
   ],
   "source": [
    "#Metrics of sklearn linear regression using ohe\n",
    "evaluate_metrics(lm_ohe, test_features, test_labels)"
   ]
  },
  {
   "cell_type": "code",
   "execution_count": 630,
   "metadata": {},
   "outputs": [
    {
     "name": "stderr",
     "output_type": "stream",
     "text": [
      "c:\\python38\\lib\\site-packages\\xgboost\\sklearn.py:892: UserWarning: The use of label encoder in XGBClassifier is deprecated and will be removed in a future release. To remove this warning, do the following: 1) Pass option use_label_encoder=False when constructing XGBClassifier object; and 2) Encode your labels (y) as integers starting with 0, i.e. 0, 1, 2, ..., [num_class - 1].\n",
      "  warnings.warn(label_encoder_deprecation_msg, UserWarning)\n"
     ]
    },
    {
     "data": {
      "text/plain": [
       "0.9386111111111111"
      ]
     },
     "execution_count": 630,
     "metadata": {},
     "output_type": "execute_result"
    }
   ],
   "source": [
    "xgb_ohe = xgb.XGBClassifier(objective=\"multi:softprob\", random_state=42, eval_metric=\"auc\")\n",
    "xgb_ohe.fit(train_features,train_labels)\n",
    "\n",
    "predicted_labels = xgb_ohe.predict(test_features)\n",
    "\n",
    "metrics.accuracy_score(test_labels,predicted_labels)\n"
   ]
  },
  {
   "cell_type": "code",
   "execution_count": 631,
   "metadata": {},
   "outputs": [
    {
     "name": "stdout",
     "output_type": "stream",
     "text": [
      "Predicted value is : 1\n",
      "Actual value is : 1\n"
     ]
    }
   ],
   "source": [
    "# Test on a random test row. In this example the 1000th row was chosen\n",
    "print('Predicted value is : {}'.format(xgb_ohe.predict(test_features)[1000]))\n",
    "print('Actual value is : {}'.format(test_labels[1000]))"
   ]
  },
  {
   "cell_type": "code",
   "execution_count": 632,
   "metadata": {},
   "outputs": [
    {
     "name": "stdout",
     "output_type": "stream",
     "text": [
      "Accuracy is : 93.8611111111111 %\n"
     ]
    }
   ],
   "source": [
    "#Calculate percentage of accurate predictions on test set\n",
    "accuracy = xgb_ohe.score(test_features,test_labels)\n",
    "print(\"Accuracy is : {} %\".format(accuracy*100))"
   ]
  },
  {
   "cell_type": "code",
   "execution_count": 633,
   "metadata": {},
   "outputs": [
    {
     "name": "stdout",
     "output_type": "stream",
     "text": [
      "              precision    recall  f1-score   support\n",
      "\n",
      "           0       0.96      0.96      0.96      2562\n",
      "           1       0.83      0.85      0.84       375\n",
      "           2       0.91      0.89      0.90       663\n",
      "\n",
      "    accuracy                           0.94      3600\n",
      "   macro avg       0.90      0.90      0.90      3600\n",
      "weighted avg       0.94      0.94      0.94      3600\n",
      "\n"
     ]
    }
   ],
   "source": [
    "print(metrics.classification_report(test_labels, xgb_ohe.predict(test_features)))"
   ]
  },
  {
   "cell_type": "code",
   "execution_count": 634,
   "metadata": {},
   "outputs": [
    {
     "name": "stdout",
     "output_type": "stream",
     "text": [
      "Accuracy: 0.939\n"
     ]
    },
    {
     "data": {
      "image/png": "[encoded data removed]",
      "text/plain": [
       "<Figure size 432x288 with 2 Axes>"
      ]
     },
     "metadata": {
      "needs_background": "light"
     },
     "output_type": "display_data"
    },
    {
     "data": {
      "image/png": "[encoded data removed]",
      "text/plain": [
       "<Figure size 432x288 with 1 Axes>"
      ]
     },
     "metadata": {
      "needs_background": "light"
     },
     "output_type": "display_data"
    }
   ],
   "source": [
    "#Metrics of sklearn linear regression using ohe\n",
    "evaluate_metrics(xgb_ohe, test_features, test_labels)"
   ]
  },
  {
   "cell_type": "markdown",
   "metadata": {},
   "source": [
    "### Approach # 2:\n",
    "\n",
    "#### Use Label-encoding on string based features"
   ]
  },
  {
   "cell_type": "code",
   "execution_count": 635,
   "metadata": {},
   "outputs": [
    {
     "data": {
      "text/html": [
       "<div>\n",
       "<style scoped>\n",
       "    .dataframe tbody tr th:only-of-type {\n",
       "        vertical-align: middle;\n",
       "    }\n",
       "\n",
       "    .dataframe tbody tr th {\n",
       "        vertical-align: top;\n",
       "    }\n",
       "\n",
       "    .dataframe thead th {\n",
       "        text-align: right;\n",
       "    }\n",
       "</style>\n",
       "<table border=\"1\" class=\"dataframe\">\n",
       "  <thead>\n",
       "    <tr style=\"text-align: right;\">\n",
       "      <th></th>\n",
       "      <th>3</th>\n",
       "      <th>4</th>\n",
       "      <th>5</th>\n",
       "      <th>6</th>\n",
       "      <th>9</th>\n",
       "      <th>10</th>\n",
       "      <th>12</th>\n",
       "      <th>13</th>\n",
       "    </tr>\n",
       "  </thead>\n",
       "  <tbody>\n",
       "    <tr>\n",
       "      <th>0</th>\n",
       "      <td>circle</td>\n",
       "      <td>4</td>\n",
       "      <td>1</td>\n",
       "      <td>rain</td>\n",
       "      <td>47.3294</td>\n",
       "      <td>-122.579</td>\n",
       "      <td>N</td>\n",
       "      <td>N</td>\n",
       "    </tr>\n",
       "    <tr>\n",
       "      <th>1</th>\n",
       "      <td>disk</td>\n",
       "      <td>4</td>\n",
       "      <td>1</td>\n",
       "      <td>partly cloudy</td>\n",
       "      <td>52.6649</td>\n",
       "      <td>-1.03489</td>\n",
       "      <td>Y</td>\n",
       "      <td>N</td>\n",
       "    </tr>\n",
       "    <tr>\n",
       "      <th>2</th>\n",
       "      <td>circle</td>\n",
       "      <td>49</td>\n",
       "      <td>1</td>\n",
       "      <td>clear</td>\n",
       "      <td>38.9517</td>\n",
       "      <td>-92.3339</td>\n",
       "      <td>N</td>\n",
       "      <td>N</td>\n",
       "    </tr>\n",
       "    <tr>\n",
       "      <th>3</th>\n",
       "      <td>disk</td>\n",
       "      <td>13</td>\n",
       "      <td>1</td>\n",
       "      <td>partly cloudy</td>\n",
       "      <td>41.4969</td>\n",
       "      <td>-71.3678</td>\n",
       "      <td>N</td>\n",
       "      <td>N</td>\n",
       "    </tr>\n",
       "    <tr>\n",
       "      <th>4</th>\n",
       "      <td>circle</td>\n",
       "      <td>17</td>\n",
       "      <td>1</td>\n",
       "      <td>mostly cloudy</td>\n",
       "      <td>47.6064</td>\n",
       "      <td>-122.331</td>\n",
       "      <td>N</td>\n",
       "      <td>N</td>\n",
       "    </tr>\n",
       "    <tr>\n",
       "      <th>...</th>\n",
       "      <td>...</td>\n",
       "      <td>...</td>\n",
       "      <td>...</td>\n",
       "      <td>...</td>\n",
       "      <td>...</td>\n",
       "      <td>...</td>\n",
       "      <td>...</td>\n",
       "      <td>...</td>\n",
       "    </tr>\n",
       "    <tr>\n",
       "      <th>17993</th>\n",
       "      <td>square</td>\n",
       "      <td>95</td>\n",
       "      <td>10</td>\n",
       "      <td>snow</td>\n",
       "      <td>42.0333</td>\n",
       "      <td>-87.7333</td>\n",
       "      <td>N</td>\n",
       "      <td>N</td>\n",
       "    </tr>\n",
       "    <tr>\n",
       "      <th>17994</th>\n",
       "      <td>circle</td>\n",
       "      <td>55</td>\n",
       "      <td>10</td>\n",
       "      <td>stormy</td>\n",
       "      <td>43.0044</td>\n",
       "      <td>-71.3489</td>\n",
       "      <td>N</td>\n",
       "      <td>N</td>\n",
       "    </tr>\n",
       "    <tr>\n",
       "      <th>17995</th>\n",
       "      <td>circle</td>\n",
       "      <td>39</td>\n",
       "      <td>10</td>\n",
       "      <td>partly cloudy</td>\n",
       "      <td>36.8664</td>\n",
       "      <td>-83.8889</td>\n",
       "      <td>N</td>\n",
       "      <td>N</td>\n",
       "    </tr>\n",
       "    <tr>\n",
       "      <th>17996</th>\n",
       "      <td>square</td>\n",
       "      <td>28</td>\n",
       "      <td>10</td>\n",
       "      <td>snow</td>\n",
       "      <td>35.3858</td>\n",
       "      <td>-94.3983</td>\n",
       "      <td>N</td>\n",
       "      <td>N</td>\n",
       "    </tr>\n",
       "    <tr>\n",
       "      <th>17997</th>\n",
       "      <td>circle</td>\n",
       "      <td>38</td>\n",
       "      <td>10</td>\n",
       "      <td>snow</td>\n",
       "      <td>29.8831</td>\n",
       "      <td>-97.9411</td>\n",
       "      <td>N</td>\n",
       "      <td>N</td>\n",
       "    </tr>\n",
       "  </tbody>\n",
       "</table>\n",
       "<p>17998 rows × 8 columns</p>\n",
       "</div>"
      ],
      "text/plain": [
       "           3   4   5              6        9        10 12 13\n",
       "0      circle   4   1           rain  47.3294 -122.579  N  N\n",
       "1        disk   4   1  partly cloudy  52.6649 -1.03489  Y  N\n",
       "2      circle  49   1          clear  38.9517 -92.3339  N  N\n",
       "3        disk  13   1  partly cloudy  41.4969 -71.3678  N  N\n",
       "4      circle  17   1  mostly cloudy  47.6064 -122.331  N  N\n",
       "...       ...  ..  ..            ...      ...      ... .. ..\n",
       "17993  square  95  10           snow  42.0333 -87.7333  N  N\n",
       "17994  circle  55  10         stormy  43.0044 -71.3489  N  N\n",
       "17995  circle  39  10  partly cloudy  36.8664 -83.8889  N  N\n",
       "17996  square  28  10           snow  35.3858 -94.3983  N  N\n",
       "17997  circle  38  10           snow  29.8831 -97.9411  N  N\n",
       "\n",
       "[17998 rows x 8 columns]"
      ]
     },
     "execution_count": 635,
     "metadata": {},
     "output_type": "execute_result"
    }
   ],
   "source": [
    "#Filter to columns we are interested in the ufodata_features\n",
    "df = pd.DataFrame(ufodata_features)\n",
    "ufo_features_df = df.loc[:, [3,4,5,6,9,10,12,13]]\n",
    "ufo_features_df"
   ]
  },
  {
   "cell_type": "code",
   "execution_count": 637,
   "metadata": {},
   "outputs": [
    {
     "data": {
      "text/html": [
       "<div>\n",
       "<style scoped>\n",
       "    .dataframe tbody tr th:only-of-type {\n",
       "        vertical-align: middle;\n",
       "    }\n",
       "\n",
       "    .dataframe tbody tr th {\n",
       "        vertical-align: top;\n",
       "    }\n",
       "\n",
       "    .dataframe thead th {\n",
       "        text-align: right;\n",
       "    }\n",
       "</style>\n",
       "<table border=\"1\" class=\"dataframe\">\n",
       "  <thead>\n",
       "    <tr style=\"text-align: right;\">\n",
       "      <th></th>\n",
       "      <th>3</th>\n",
       "      <th>4</th>\n",
       "      <th>5</th>\n",
       "      <th>6</th>\n",
       "      <th>9</th>\n",
       "      <th>10</th>\n",
       "      <th>12</th>\n",
       "      <th>13</th>\n",
       "    </tr>\n",
       "  </thead>\n",
       "  <tbody>\n",
       "    <tr>\n",
       "      <th>0</th>\n",
       "      <td>1</td>\n",
       "      <td>4</td>\n",
       "      <td>1</td>\n",
       "      <td>4</td>\n",
       "      <td>47.3294</td>\n",
       "      <td>-122.579</td>\n",
       "      <td>0</td>\n",
       "      <td>0</td>\n",
       "    </tr>\n",
       "    <tr>\n",
       "      <th>1</th>\n",
       "      <td>2</td>\n",
       "      <td>4</td>\n",
       "      <td>1</td>\n",
       "      <td>3</td>\n",
       "      <td>52.6649</td>\n",
       "      <td>-1.03489</td>\n",
       "      <td>1</td>\n",
       "      <td>0</td>\n",
       "    </tr>\n",
       "    <tr>\n",
       "      <th>2</th>\n",
       "      <td>1</td>\n",
       "      <td>49</td>\n",
       "      <td>1</td>\n",
       "      <td>0</td>\n",
       "      <td>38.9517</td>\n",
       "      <td>-92.3339</td>\n",
       "      <td>0</td>\n",
       "      <td>0</td>\n",
       "    </tr>\n",
       "    <tr>\n",
       "      <th>3</th>\n",
       "      <td>2</td>\n",
       "      <td>13</td>\n",
       "      <td>1</td>\n",
       "      <td>3</td>\n",
       "      <td>41.4969</td>\n",
       "      <td>-71.3678</td>\n",
       "      <td>0</td>\n",
       "      <td>0</td>\n",
       "    </tr>\n",
       "    <tr>\n",
       "      <th>4</th>\n",
       "      <td>1</td>\n",
       "      <td>17</td>\n",
       "      <td>1</td>\n",
       "      <td>2</td>\n",
       "      <td>47.6064</td>\n",
       "      <td>-122.331</td>\n",
       "      <td>0</td>\n",
       "      <td>0</td>\n",
       "    </tr>\n",
       "    <tr>\n",
       "      <th>...</th>\n",
       "      <td>...</td>\n",
       "      <td>...</td>\n",
       "      <td>...</td>\n",
       "      <td>...</td>\n",
       "      <td>...</td>\n",
       "      <td>...</td>\n",
       "      <td>...</td>\n",
       "      <td>...</td>\n",
       "    </tr>\n",
       "    <tr>\n",
       "      <th>17993</th>\n",
       "      <td>7</td>\n",
       "      <td>95</td>\n",
       "      <td>10</td>\n",
       "      <td>5</td>\n",
       "      <td>42.0333</td>\n",
       "      <td>-87.7333</td>\n",
       "      <td>0</td>\n",
       "      <td>0</td>\n",
       "    </tr>\n",
       "    <tr>\n",
       "      <th>17994</th>\n",
       "      <td>1</td>\n",
       "      <td>55</td>\n",
       "      <td>10</td>\n",
       "      <td>6</td>\n",
       "      <td>43.0044</td>\n",
       "      <td>-71.3489</td>\n",
       "      <td>0</td>\n",
       "      <td>0</td>\n",
       "    </tr>\n",
       "    <tr>\n",
       "      <th>17995</th>\n",
       "      <td>1</td>\n",
       "      <td>39</td>\n",
       "      <td>10</td>\n",
       "      <td>3</td>\n",
       "      <td>36.8664</td>\n",
       "      <td>-83.8889</td>\n",
       "      <td>0</td>\n",
       "      <td>0</td>\n",
       "    </tr>\n",
       "    <tr>\n",
       "      <th>17996</th>\n",
       "      <td>7</td>\n",
       "      <td>28</td>\n",
       "      <td>10</td>\n",
       "      <td>5</td>\n",
       "      <td>35.3858</td>\n",
       "      <td>-94.3983</td>\n",
       "      <td>0</td>\n",
       "      <td>0</td>\n",
       "    </tr>\n",
       "    <tr>\n",
       "      <th>17997</th>\n",
       "      <td>1</td>\n",
       "      <td>38</td>\n",
       "      <td>10</td>\n",
       "      <td>5</td>\n",
       "      <td>29.8831</td>\n",
       "      <td>-97.9411</td>\n",
       "      <td>0</td>\n",
       "      <td>0</td>\n",
       "    </tr>\n",
       "  </tbody>\n",
       "</table>\n",
       "<p>17998 rows × 8 columns</p>\n",
       "</div>"
      ],
      "text/plain": [
       "       3   4   5   6        9        10  12  13\n",
       "0       1   4   1   4  47.3294 -122.579   0   0\n",
       "1       2   4   1   3  52.6649 -1.03489   1   0\n",
       "2       1  49   1   0  38.9517 -92.3339   0   0\n",
       "3       2  13   1   3  41.4969 -71.3678   0   0\n",
       "4       1  17   1   2  47.6064 -122.331   0   0\n",
       "...    ..  ..  ..  ..      ...      ...  ..  ..\n",
       "17993   7  95  10   5  42.0333 -87.7333   0   0\n",
       "17994   1  55  10   6  43.0044 -71.3489   0   0\n",
       "17995   1  39  10   3  36.8664 -83.8889   0   0\n",
       "17996   7  28  10   5  35.3858 -94.3983   0   0\n",
       "17997   1  38  10   5  29.8831 -97.9411   0   0\n",
       "\n",
       "[17998 rows x 8 columns]"
      ]
     },
     "execution_count": 637,
     "metadata": {},
     "output_type": "execute_result"
    }
   ],
   "source": [
    "# Loop over all the text columns, label encode them and replace in place\n",
    "cols = ufo_features_df[[3,6,12,13]].columns\n",
    "for i in cols:\n",
    "    lblEnc = LabelEncoder();\n",
    "    ufo_features_df.loc[:,i] = lblEnc.fit_transform(ufo_features_df.loc[:,i])\n",
    "#Display the finalized dataframe that has been One-Hot-Encoded\n",
    "ufo_features_df"
   ]
  },
  {
   "cell_type": "code",
   "execution_count": 638,
   "metadata": {},
   "outputs": [],
   "source": [
    "# Cast back values as the ufodata_features array.\n",
    "ufodata_features_lblEnc = ufo_features_df.values"
   ]
  },
  {
   "cell_type": "code",
   "execution_count": 639,
   "metadata": {},
   "outputs": [],
   "source": [
    "#Split the dataset 85% to 15%\n",
    "np.random.seed(0)\n",
    "train_features,test_features,train_labels,test_labels = train_test_split(ufodata_features_lblEnc,ufodata_labels,test_size=0.15)"
   ]
  },
  {
   "cell_type": "code",
   "execution_count": 640,
   "metadata": {},
   "outputs": [
    {
     "data": {
      "text/plain": [
       "(0.8499833314812757, 0.1500166685187243)"
      ]
     },
     "execution_count": 640,
     "metadata": {},
     "output_type": "execute_result"
    }
   ],
   "source": [
    "#Confirmation of split of data between Train and Test\n",
    "totaldata= train_features.shape[0]+test_features.shape[0]\n",
    "datasetsplit = (train_features.shape[0]/totaldata,test_features.shape[0]/totaldata)\n",
    "datasetsplit"
   ]
  },
  {
   "cell_type": "code",
   "execution_count": 641,
   "metadata": {},
   "outputs": [],
   "source": [
    "#reverse the dictionary items in label_map to use in the label_counts to plot\n",
    "reverse_label_map = {v:k for k,v in label_map.items()}"
   ]
  },
  {
   "cell_type": "code",
   "execution_count": 642,
   "metadata": {},
   "outputs": [
    {
     "data": {
      "text/plain": [
       "<AxesSubplot:title={'center':'Label Counts'}>"
      ]
     },
     "execution_count": 642,
     "metadata": {},
     "output_type": "execute_result"
    },
    {
     "data": {
      "image/png": "[encoded data removed]",
      "text/plain": [
       "<Figure size 432x288 with 1 Axes>"
      ]
     },
     "metadata": {
      "needs_background": "light"
     },
     "output_type": "display_data"
    }
   ],
   "source": [
    "label_counts = pd.DataFrame(data=train_labels)[0].map(reverse_label_map).value_counts(sort=False).sort_index(ascending=False)\n",
    "label_counts.plot(kind='barh', color='purple', title='Label Counts')"
   ]
  },
  {
   "cell_type": "code",
   "execution_count": 643,
   "metadata": {},
   "outputs": [
    {
     "name": "stdout",
     "output_type": "stream",
     "text": [
      "Wall time: 7.05 s\n"
     ]
    },
    {
     "data": {
      "text/plain": [
       "LogisticRegressionCV(cv=5, multi_class='ovr', solver='liblinear')"
      ]
     },
     "execution_count": 643,
     "metadata": {},
     "output_type": "execute_result"
    }
   ],
   "source": [
    "%%time\n",
    "#Train the model using 'One vs rest' classifier\n",
    "lm_lblEnc = linear_model.LogisticRegressionCV(cv=5,multi_class='ovr', solver='liblinear')\n",
    "lm_lblEnc.fit(train_features, train_labels)"
   ]
  },
  {
   "cell_type": "code",
   "execution_count": 644,
   "metadata": {},
   "outputs": [
    {
     "name": "stdout",
     "output_type": "stream",
     "text": [
      "Predicted value is : 1\n",
      "Actual value is : 1\n"
     ]
    }
   ],
   "source": [
    "# Test on a random test row. In this example the 1000th row was chosen\n",
    "print('Predicted value is : {}'.format(lm_lblEnc.predict([test_features[1000,:]])[0]))\n",
    "print('Actual value is : {}'.format(test_labels[1000]))"
   ]
  },
  {
   "cell_type": "code",
   "execution_count": 645,
   "metadata": {},
   "outputs": [
    {
     "name": "stdout",
     "output_type": "stream",
     "text": [
      "Accuracy is : 80.11111111111111 %\n"
     ]
    }
   ],
   "source": [
    "#Calculate percentage of accurate predictions on test set\n",
    "accuracy = lm_lblEnc.score(test_features,test_labels)\n",
    "print(\"Accuracy is : {} %\".format(accuracy*100))"
   ]
  },
  {
   "cell_type": "code",
   "execution_count": 646,
   "metadata": {
    "scrolled": true
   },
   "outputs": [
    {
     "name": "stdout",
     "output_type": "stream",
     "text": [
      "              precision    recall  f1-score   support\n",
      "\n",
      "           0       0.88      0.96      0.92      1927\n",
      "           1       0.59      0.37      0.46       281\n",
      "           2       0.49      0.42      0.45       492\n",
      "\n",
      "    accuracy                           0.80      2700\n",
      "   macro avg       0.65      0.58      0.61      2700\n",
      "weighted avg       0.78      0.80      0.79      2700\n",
      "\n"
     ]
    }
   ],
   "source": [
    "print(metrics.classification_report(test_labels, lm_lblEnc.predict(test_features)))"
   ]
  },
  {
   "cell_type": "code",
   "execution_count": 647,
   "metadata": {},
   "outputs": [
    {
     "name": "stdout",
     "output_type": "stream",
     "text": [
      "Accuracy: 0.801\n"
     ]
    },
    {
     "data": {
      "image/png": "[encoded data removed]",
      "text/plain": [
       "<Figure size 432x288 with 2 Axes>"
      ]
     },
     "metadata": {
      "needs_background": "light"
     },
     "output_type": "display_data"
    },
    {
     "data": {
      "image/png": "[encoded data removed]",
      "text/plain": [
       "<Figure size 432x288 with 1 Axes>"
      ]
     },
     "metadata": {
      "needs_background": "light"
     },
     "output_type": "display_data"
    }
   ],
   "source": [
    "evaluate_metrics(lm_lblEnc, test_features, test_labels)"
   ]
  },
  {
   "cell_type": "code",
   "execution_count": 656,
   "metadata": {},
   "outputs": [
    {
     "name": "stdout",
     "output_type": "stream",
     "text": [
      "[20:33:25] WARNING: C:/Users/Administrator/workspace/xgboost-win64_release_1.3.0/src/learner.cc:541: \n",
      "Parameters: { num_round } might not be used.\n",
      "\n",
      "  This may not be accurate due to some parameters are only used in language bindings but\n",
      "  passed down to XGBoost core.  Or some parameters are not used but slip through this\n",
      "  verification. Please open an issue if you find above cases.\n",
      "\n",
      "\n"
     ]
    },
    {
     "data": {
      "text/plain": [
       "0.942962962962963"
      ]
     },
     "execution_count": 656,
     "metadata": {},
     "output_type": "execute_result"
    }
   ],
   "source": [
    "xgb_lblEnc = xgb.XGBClassifier(objective=\"multi:softmax\", num_class = 3, num_round=300, eval_metric = \"error\")\n",
    "xgb_lblEnc.fit(train_features,train_labels)\n",
    "\n",
    "predicted_labels = xgb_lblEnc.predict(test_features)\n",
    "\n",
    "metrics.accuracy_score(test_labels,predicted_labels)\n"
   ]
  },
  {
   "cell_type": "code",
   "execution_count": 649,
   "metadata": {},
   "outputs": [
    {
     "name": "stdout",
     "output_type": "stream",
     "text": [
      "Predicted value is : 1\n",
      "Actual value is : 1\n"
     ]
    }
   ],
   "source": [
    "# Test on a random test row. In this example the 1000th row was chosen\n",
    "print('Predicted value is : {}'.format(xgb_lblEnc.predict(test_features)[1000]))\n",
    "print('Actual value is : {}'.format(test_labels[1000]))"
   ]
  },
  {
   "cell_type": "code",
   "execution_count": 650,
   "metadata": {},
   "outputs": [
    {
     "name": "stdout",
     "output_type": "stream",
     "text": [
      "Accuracy is : 94.2962962962963 %\n"
     ]
    }
   ],
   "source": [
    "#Calculate percentage of accurate predictions on test set\n",
    "accuracy = xgb_lblEnc.score(test_features,test_labels)\n",
    "print(\"Accuracy is : {} %\".format(accuracy*100))"
   ]
  },
  {
   "cell_type": "code",
   "execution_count": 651,
   "metadata": {},
   "outputs": [
    {
     "name": "stdout",
     "output_type": "stream",
     "text": [
      "              precision    recall  f1-score   support\n",
      "\n",
      "           0       0.97      0.96      0.97      1927\n",
      "           1       0.84      0.86      0.85       281\n",
      "           2       0.91      0.91      0.91       492\n",
      "\n",
      "    accuracy                           0.94      2700\n",
      "   macro avg       0.90      0.91      0.91      2700\n",
      "weighted avg       0.94      0.94      0.94      2700\n",
      "\n"
     ]
    }
   ],
   "source": [
    "print(metrics.classification_report(test_labels, xgb_lblEnc.predict(test_features)))"
   ]
  },
  {
   "cell_type": "code",
   "execution_count": 608,
   "metadata": {},
   "outputs": [
    {
     "name": "stdout",
     "output_type": "stream",
     "text": [
      "Accuracy: 0.938\n"
     ]
    },
    {
     "data": {
      "image/png": "[encoded data removed]",
      "text/plain": [
       "<Figure size 432x288 with 2 Axes>"
      ]
     },
     "metadata": {
      "needs_background": "light"
     },
     "output_type": "display_data"
    },
    {
     "data": {
      "image/png": "[encoded data removed]",
      "text/plain": [
       "<Figure size 432x288 with 1 Axes>"
      ]
     },
     "metadata": {
      "needs_background": "light"
     },
     "output_type": "display_data"
    }
   ],
   "source": [
    "#Metrics of sklearn linear regression using ohe\n",
    "evaluate_metrics(xgb_lblEnc, test_features, test_labels)"
   ]
  }
 ],
 "metadata": {
  "kernelspec": {
   "display_name": "Python 3",
   "language": "python",
   "name": "python3"
  },
  "language_info": {
   "codemirror_mode": {
    "name": "ipython",
    "version": 3
   },
   "file_extension": ".py",
   "mimetype": "text/x-python",
   "name": "python",
   "nbconvert_exporter": "python",
   "pygments_lexer": "ipython3",
   "version": "3.8.3"
  }
 },
 "nbformat": 4,
 "nbformat_minor": 4
}
