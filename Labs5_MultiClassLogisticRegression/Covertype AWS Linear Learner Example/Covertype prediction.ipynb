{
 "cells": [
  {
   "cell_type": "code",
   "execution_count": 59,
   "metadata": {},
   "outputs": [],
   "source": [
    "%matplotlib inline\n",
    "from sklearn.model_selection import train_test_split\n",
    "import pandas as pd\n",
    "import numpy as np\n",
    "import seaborn as sns\n",
    "from sklearn import linear_model\n",
    "from sklearn import metrics"
   ]
  },
  {
   "cell_type": "code",
   "execution_count": 61,
   "metadata": {},
   "outputs": [],
   "source": [
    "#Download data for csv from https://archive.ics.uci.edu/ml/machine-learning-databases/covtype/covtype.data.gz\n",
    "#Unzip file and save the covtype.data as covtype.csv\n",
    "#Placing file into gitignore since it is a large one\n",
    "covtype = pd.read_csv('covtype.csv',delimiter=',',dtype='float32').values"
   ]
  },
  {
   "cell_type": "code",
   "execution_count": 8,
   "metadata": {},
   "outputs": [
    {
     "data": {
      "text/plain": [
       "(581011, 55)"
      ]
     },
     "execution_count": 8,
     "metadata": {},
     "output_type": "execute_result"
    }
   ],
   "source": [
    "#First 54 columns are features and last column is the label\n",
    "covtype.shape"
   ]
  },
  {
   "cell_type": "code",
   "execution_count": 9,
   "metadata": {},
   "outputs": [],
   "source": [
    "covtype_features,covtype_labels = covtype[:,:54],covtype[:,54]"
   ]
  },
  {
   "cell_type": "code",
   "execution_count": 13,
   "metadata": {},
   "outputs": [],
   "source": [
    "#Subtract 1 each from the covtype_labels to make them into 0 index data (i.e. from 1 to 10 transformed to 0 to 9)\n",
    "covtype_labels -= 1"
   ]
  },
  {
   "cell_type": "code",
   "execution_count": 17,
   "metadata": {},
   "outputs": [],
   "source": [
    "np.random.seed(0) #Start shuffle seed\n",
    "train_features,test_features,train_labels,test_labels = train_test_split(covtype_features,covtype_labels,test_size=0.2)\n",
    "validation_features,test_features,validation_labels,test_labels = train_test_split(test_features,test_labels,test_size=0.5)"
   ]
  },
  {
   "cell_type": "code",
   "execution_count": 23,
   "metadata": {},
   "outputs": [
    {
     "data": {
      "text/plain": [
       "(0.7999986230897522, 0.09999982788621903, 0.1000015490240288)"
      ]
     },
     "execution_count": 23,
     "metadata": {},
     "output_type": "execute_result"
    }
   ],
   "source": [
    "#Confirmation of split of data between Train, Validation and Test\n",
    "totaldata= train_features.shape[0]+validation_features.shape[0]+test_features.shape[0]\n",
    "datasetsplit = (train_features.shape[0]/totaldata,validation_features.shape[0]/totaldata,test_features.shape[0]/totaldata)\n",
    "datasetsplit"
   ]
  },
  {
   "cell_type": "code",
   "execution_count": 24,
   "metadata": {},
   "outputs": [],
   "source": [
    "# assign label names and count label frequencies\n",
    "label_map = {0:'Spruce/Fir', 1:'Lodgepole Pine', 2:'Ponderosa Pine', 3:'Cottonwood/Willow', \n",
    "             4:'Aspen', 5:'Douglas-fir', 6:'Krummholz'}"
   ]
  },
  {
   "cell_type": "code",
   "execution_count": 35,
   "metadata": {},
   "outputs": [
    {
     "data": {
      "text/plain": [
       "<AxesSubplot:title={'center':'Label Counts'}>"
      ]
     },
     "execution_count": 35,
     "metadata": {},
     "output_type": "execute_result"
    },
    {
     "data": {
      "image/png": "[encoded data removed]",
      "text/plain": [
       "<Figure size 432x288 with 1 Axes>"
      ]
     },
     "metadata": {
      "needs_background": "light"
     },
     "output_type": "display_data"
    }
   ],
   "source": [
    "label_counts = pd.DataFrame(data=train_labels)[0].map(label_map).value_counts(sort=False).sort_index(ascending=False)\n",
    "label_counts.plot(kind='barh', color='purple', title='Label Counts')"
   ]
  },
  {
   "cell_type": "code",
   "execution_count": 54,
   "metadata": {},
   "outputs": [
    {
     "data": {
      "text/plain": [
       "LogisticRegression(multi_class='ovr', solver='liblinear')"
      ]
     },
     "execution_count": 54,
     "metadata": {},
     "output_type": "execute_result"
    }
   ],
   "source": [
    "#Train the model using 'One vs rest' classifier\n",
    "lm = linear_model.LogisticRegression(multi_class='ovr', solver='liblinear')\n",
    "lm.fit(train_features, train_labels)"
   ]
  },
  {
   "cell_type": "code",
   "execution_count": 55,
   "metadata": {},
   "outputs": [
    {
     "name": "stdout",
     "output_type": "stream",
     "text": [
      "Predicted value is : 2.0\n",
      "Actual value is : 2.0\n"
     ]
    }
   ],
   "source": [
    "# Test on a random test row. In this example the 300th row was chosen\n",
    "print('Predicted value is : {}'.format(lm.predict([test_features[300,:]])[0]))\n",
    "print('Actual value is : {}'.format(test_labels[300]))"
   ]
  },
  {
   "cell_type": "code",
   "execution_count": 57,
   "metadata": {},
   "outputs": [
    {
     "name": "stdout",
     "output_type": "stream",
     "text": [
      "Accuracy is : 71.52249492272212 %\n"
     ]
    }
   ],
   "source": [
    "#Calculate percentage of accurate predictions\n",
    "accuracy = lm.score(test_features,test_labels)\n",
    "print(\"Accuracy is : {} %\".format(accuracy*100))"
   ]
  },
  {
   "cell_type": "code",
   "execution_count": 60,
   "metadata": {},
   "outputs": [
    {
     "name": "stdout",
     "output_type": "stream",
     "text": [
      "              precision    recall  f1-score   support\n",
      "\n",
      "         0.0       0.71      0.68      0.70     21076\n",
      "         1.0       0.74      0.80      0.77     28459\n",
      "         2.0       0.61      0.87      0.72      3523\n",
      "         3.0       0.69      0.30      0.42       286\n",
      "         4.0       0.00      0.00      0.00       952\n",
      "         5.0       0.44      0.05      0.09      1732\n",
      "         6.0       0.72      0.50      0.59      2074\n",
      "\n",
      "    accuracy                           0.72     58102\n",
      "   macro avg       0.56      0.46      0.47     58102\n",
      "weighted avg       0.70      0.72      0.70     58102\n",
      "\n"
     ]
    },
    {
     "name": "stderr",
     "output_type": "stream",
     "text": [
      "c:\\python38\\lib\\site-packages\\sklearn\\metrics\\_classification.py:1221: UndefinedMetricWarning: Precision and F-score are ill-defined and being set to 0.0 in labels with no predicted samples. Use `zero_division` parameter to control this behavior.\n",
      "  _warn_prf(average, modifier, msg_start, len(result))\n"
     ]
    }
   ],
   "source": [
    "print(metrics.classification_report(test_labels, lm.predict(test_features)))"
   ]
  },
  {
   "cell_type": "code",
   "execution_count": null,
   "metadata": {},
   "outputs": [],
   "source": []
  }
 ],
 "metadata": {
  "kernelspec": {
   "display_name": "Python 3",
   "language": "python",
   "name": "python3"
  },
  "language_info": {
   "codemirror_mode": {
    "name": "ipython",
    "version": 3
   },
   "file_extension": ".py",
   "mimetype": "text/x-python",
   "name": "python",
   "nbconvert_exporter": "python",
   "pygments_lexer": "ipython3",
   "version": "3.8.3"
  }
 },
 "nbformat": 4,
 "nbformat_minor": 4
}
