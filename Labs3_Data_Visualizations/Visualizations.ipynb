{
 "cells": [
  {
   "cell_type": "code",
   "execution_count": 156,
   "metadata": {},
   "outputs": [],
   "source": [
    "import matplotlib.pyplot as plt\n",
    "import pandas as pd\n",
    "import numpy as np"
   ]
  },
  {
   "cell_type": "code",
   "execution_count": 157,
   "metadata": {},
   "outputs": [],
   "source": [
    "cardf = pd.read_csv('s3://mypersonalizedbucket/cardata.csv')"
   ]
  },
  {
   "cell_type": "code",
   "execution_count": 158,
   "metadata": {},
   "outputs": [
    {
     "data": {
      "text/html": [
       "<div>\n",
       "<style scoped>\n",
       "    .dataframe tbody tr th:only-of-type {\n",
       "        vertical-align: middle;\n",
       "    }\n",
       "\n",
       "    .dataframe tbody tr th {\n",
       "        vertical-align: top;\n",
       "    }\n",
       "\n",
       "    .dataframe thead th {\n",
       "        text-align: right;\n",
       "    }\n",
       "</style>\n",
       "<table border=\"1\" class=\"dataframe\">\n",
       "  <thead>\n",
       "    <tr style=\"text-align: right;\">\n",
       "      <th></th>\n",
       "      <th>car</th>\n",
       "      <th>year</th>\n",
       "      <th>engine_hp</th>\n",
       "      <th>avg_mpg</th>\n",
       "      <th>price</th>\n",
       "      <th>salesman</th>\n",
       "      <th>dealership</th>\n",
       "      <th>sold_date</th>\n",
       "      <th>sold_month</th>\n",
       "    </tr>\n",
       "  </thead>\n",
       "  <tbody>\n",
       "    <tr>\n",
       "      <th>0</th>\n",
       "      <td>Corvette</td>\n",
       "      <td>2011</td>\n",
       "      <td>335.0</td>\n",
       "      <td>22.5</td>\n",
       "      <td>46135</td>\n",
       "      <td>2</td>\n",
       "      <td>Big Bobs</td>\n",
       "      <td>2012-05-06</td>\n",
       "      <td>5</td>\n",
       "    </tr>\n",
       "    <tr>\n",
       "      <th>1</th>\n",
       "      <td>Corvette</td>\n",
       "      <td>2011</td>\n",
       "      <td>300.0</td>\n",
       "      <td>23.5</td>\n",
       "      <td>40650</td>\n",
       "      <td>2</td>\n",
       "      <td>Uptown Cars</td>\n",
       "      <td>2011-05-16</td>\n",
       "      <td>5</td>\n",
       "    </tr>\n",
       "    <tr>\n",
       "      <th>2</th>\n",
       "      <td>Corvette</td>\n",
       "      <td>2011</td>\n",
       "      <td>300.0</td>\n",
       "      <td>24.0</td>\n",
       "      <td>36350</td>\n",
       "      <td>2</td>\n",
       "      <td>Uptown Cars</td>\n",
       "      <td>2013-07-31</td>\n",
       "      <td>7</td>\n",
       "    </tr>\n",
       "    <tr>\n",
       "      <th>3</th>\n",
       "      <td>Corvette</td>\n",
       "      <td>2011</td>\n",
       "      <td>230.0</td>\n",
       "      <td>23.0</td>\n",
       "      <td>29450</td>\n",
       "      <td>2</td>\n",
       "      <td>Uptown Cars</td>\n",
       "      <td>2014-07-05</td>\n",
       "      <td>7</td>\n",
       "    </tr>\n",
       "    <tr>\n",
       "      <th>4</th>\n",
       "      <td>Corvette</td>\n",
       "      <td>2011</td>\n",
       "      <td>230.0</td>\n",
       "      <td>23.0</td>\n",
       "      <td>34500</td>\n",
       "      <td>2</td>\n",
       "      <td>Uptown Cars</td>\n",
       "      <td>2013-05-20</td>\n",
       "      <td>5</td>\n",
       "    </tr>\n",
       "    <tr>\n",
       "      <th>...</th>\n",
       "      <td>...</td>\n",
       "      <td>...</td>\n",
       "      <td>...</td>\n",
       "      <td>...</td>\n",
       "      <td>...</td>\n",
       "      <td>...</td>\n",
       "      <td>...</td>\n",
       "      <td>...</td>\n",
       "      <td>...</td>\n",
       "    </tr>\n",
       "    <tr>\n",
       "      <th>1956</th>\n",
       "      <td>Corvette</td>\n",
       "      <td>2016</td>\n",
       "      <td>240.0</td>\n",
       "      <td>28.0</td>\n",
       "      <td>49700</td>\n",
       "      <td>4</td>\n",
       "      <td>Uptown Cars</td>\n",
       "      <td>2019-09-09</td>\n",
       "      <td>9</td>\n",
       "    </tr>\n",
       "    <tr>\n",
       "      <th>1957</th>\n",
       "      <td>Corvette</td>\n",
       "      <td>2016</td>\n",
       "      <td>335.0</td>\n",
       "      <td>20.5</td>\n",
       "      <td>66350</td>\n",
       "      <td>2</td>\n",
       "      <td>Car Town</td>\n",
       "      <td>2017-04-29</td>\n",
       "      <td>4</td>\n",
       "    </tr>\n",
       "    <tr>\n",
       "      <th>1958</th>\n",
       "      <td>Corvette</td>\n",
       "      <td>2001</td>\n",
       "      <td>394.0</td>\n",
       "      <td>15.5</td>\n",
       "      <td>128000</td>\n",
       "      <td>4</td>\n",
       "      <td>Uptown Cars</td>\n",
       "      <td>2002-05-15</td>\n",
       "      <td>5</td>\n",
       "    </tr>\n",
       "    <tr>\n",
       "      <th>1959</th>\n",
       "      <td>Corvette</td>\n",
       "      <td>2002</td>\n",
       "      <td>394.0</td>\n",
       "      <td>15.5</td>\n",
       "      <td>130000</td>\n",
       "      <td>2</td>\n",
       "      <td>Uptown Cars</td>\n",
       "      <td>2002-05-07</td>\n",
       "      <td>5</td>\n",
       "    </tr>\n",
       "    <tr>\n",
       "      <th>1960</th>\n",
       "      <td>Corvette</td>\n",
       "      <td>2003</td>\n",
       "      <td>394.0</td>\n",
       "      <td>15.5</td>\n",
       "      <td>131500</td>\n",
       "      <td>3</td>\n",
       "      <td>Big Bobs</td>\n",
       "      <td>2005-02-09</td>\n",
       "      <td>2</td>\n",
       "    </tr>\n",
       "  </tbody>\n",
       "</table>\n",
       "<p>1961 rows × 9 columns</p>\n",
       "</div>"
      ],
      "text/plain": [
       "           car  year  engine_hp  avg_mpg   price  salesman   dealership  \\\n",
       "0     Corvette  2011      335.0     22.5   46135         2     Big Bobs   \n",
       "1     Corvette  2011      300.0     23.5   40650         2  Uptown Cars   \n",
       "2     Corvette  2011      300.0     24.0   36350         2  Uptown Cars   \n",
       "3     Corvette  2011      230.0     23.0   29450         2  Uptown Cars   \n",
       "4     Corvette  2011      230.0     23.0   34500         2  Uptown Cars   \n",
       "...        ...   ...        ...      ...     ...       ...          ...   \n",
       "1956  Corvette  2016      240.0     28.0   49700         4  Uptown Cars   \n",
       "1957  Corvette  2016      335.0     20.5   66350         2     Car Town   \n",
       "1958  Corvette  2001      394.0     15.5  128000         4  Uptown Cars   \n",
       "1959  Corvette  2002      394.0     15.5  130000         2  Uptown Cars   \n",
       "1960  Corvette  2003      394.0     15.5  131500         3     Big Bobs   \n",
       "\n",
       "       sold_date  sold_month  \n",
       "0     2012-05-06           5  \n",
       "1     2011-05-16           5  \n",
       "2     2013-07-31           7  \n",
       "3     2014-07-05           7  \n",
       "4     2013-05-20           5  \n",
       "...          ...         ...  \n",
       "1956  2019-09-09           9  \n",
       "1957  2017-04-29           4  \n",
       "1958  2002-05-15           5  \n",
       "1959  2002-05-07           5  \n",
       "1960  2005-02-09           2  \n",
       "\n",
       "[1961 rows x 9 columns]"
      ]
     },
     "execution_count": 158,
     "metadata": {},
     "output_type": "execute_result"
    }
   ],
   "source": [
    "cardf"
   ]
  },
  {
   "cell_type": "code",
   "execution_count": 159,
   "metadata": {},
   "outputs": [],
   "source": [
    "monthSalesDf = cardf.groupby('sold_month').count()['car']"
   ]
  },
  {
   "cell_type": "code",
   "execution_count": 160,
   "metadata": {},
   "outputs": [
    {
     "data": {
      "text/plain": [
       "Text(0.5, 1.0, 'Sales for each month')"
      ]
     },
     "execution_count": 160,
     "metadata": {},
     "output_type": "execute_result"
    },
    {
     "data": {
      "image/png": "[encoded data removed]",
      "text/plain": [
       "<Figure size 432x288 with 1 Axes>"
      ]
     },
     "metadata": {
      "needs_background": "light"
     },
     "output_type": "display_data"
    }
   ],
   "source": [
    "## Which month generates the most sales? Appears to be May\n",
    "plt.bar(monthSalesDf.index.values,monthSalesDf.values)\n",
    "plt.ylabel('Total Sales')\n",
    "plt.xlabel('Month in the year')\n",
    "plt.title('Sales for each month')\n"
   ]
  },
  {
   "cell_type": "code",
   "execution_count": 161,
   "metadata": {},
   "outputs": [],
   "source": [
    "salesmanDf = cardf.groupby('salesman').count()['car']"
   ]
  },
  {
   "cell_type": "code",
   "execution_count": 162,
   "metadata": {},
   "outputs": [
    {
     "data": {
      "text/plain": [
       "Text(0.5, 1.0, 'Number of cars sold by each salesman')"
      ]
     },
     "execution_count": 162,
     "metadata": {},
     "output_type": "execute_result"
    },
    {
     "data": {
      "image/png": "[encoded data removed]",
      "text/plain": [
       "<Figure size 432x288 with 1 Axes>"
      ]
     },
     "metadata": {
      "needs_background": "light"
     },
     "output_type": "display_data"
    }
   ],
   "source": [
    "## Which car salesman sold the most cars? Appears to be Salesman # 3\n",
    "plt.bar(salesmanDf.index.values,salesmanDf.values)\n",
    "plt.ylabel('Number of cars')\n",
    "plt.xlabel('Salesman #')\n",
    "plt.xticks(np.arange(0,5,1))\n",
    "plt.yticks(np.arange(0,1201,200))\n",
    "plt.title('Number of cars sold by each salesman')"
   ]
  },
  {
   "cell_type": "code",
   "execution_count": 163,
   "metadata": {},
   "outputs": [],
   "source": [
    "DealershipDf = cardf.groupby('dealership').count()['car']"
   ]
  },
  {
   "cell_type": "code",
   "execution_count": 164,
   "metadata": {},
   "outputs": [
    {
     "data": {
      "text/plain": [
       "Text(0.5, 1.0, 'Number of cars sold by each dealership')"
      ]
     },
     "execution_count": 164,
     "metadata": {},
     "output_type": "execute_result"
    },
    {
     "data": {
      "image/png": "[encoded data removed]",
      "text/plain": [
       "<Figure size 432x288 with 1 Axes>"
      ]
     },
     "metadata": {
      "needs_background": "light"
     },
     "output_type": "display_data"
    }
   ],
   "source": [
    "## Which car salesman sold the most cars? Appears to be Salesman # 3\n",
    "plt.bar(DealershipDf.index.values,DealershipDf.values)\n",
    "plt.ylabel('Number of cars')\n",
    "plt.xlabel('Dealership')\n",
    "plt.yticks(np.arange(0,1201,200))\n",
    "plt.title('Number of cars sold by each dealership')"
   ]
  },
  {
   "cell_type": "code",
   "execution_count": 165,
   "metadata": {},
   "outputs": [],
   "source": [
    "# Adding year column to original dataframe\n",
    "# pd.to_datetime(cardf['sold_date']) is used to convert the sold_date column to actual date time\n",
    "# It is then wrapped around the DatetimeIndex function and have the year extracted from that object\n",
    "cardf['soldDateYr'] = pd.DatetimeIndex(pd.to_datetime(cardf['sold_date'])).year"
   ]
  },
  {
   "cell_type": "code",
   "execution_count": 166,
   "metadata": {},
   "outputs": [],
   "source": [
    "corvettePriceYearDf = cardf[cardf['car']=='Corvette'].groupby('soldDateYr').mean()['price']\n"
   ]
  },
  {
   "cell_type": "code",
   "execution_count": 167,
   "metadata": {},
   "outputs": [
    {
     "data": {
      "text/plain": [
       "Text(0.5, 1.0, 'Average price of Corvette per year')"
      ]
     },
     "execution_count": 167,
     "metadata": {},
     "output_type": "execute_result"
    },
    {
     "data": {
      "image/png": "[encoded data removed]",
      "text/plain": [
       "<Figure size 432x288 with 1 Axes>"
      ]
     },
     "metadata": {
      "needs_background": "light"
     },
     "output_type": "display_data"
    }
   ],
   "source": [
    "## In what year was the average price of a Corvette greater than 100K? Appears to be 2005\n",
    "plt.plot(corvettePriceYearDf.index.values,corvettePriceYearDf.values)\n",
    "plt.ylabel('Average price')\n",
    "plt.xlabel('Year')\n",
    "plt.xticks(np.arange(1995,2021,1),rotation = 90)\n",
    "plt.grid(True)\n",
    "plt.title('Average price of Corvette per year')"
   ]
  },
  {
   "cell_type": "code",
   "execution_count": 168,
   "metadata": {},
   "outputs": [],
   "source": [
    "corvetteEngine = cardf[cardf['car']=='Corvette']['engine_hp'].values\n",
    "mustangEngine =  cardf[cardf['car']=='Mustang']['engine_hp'].values\n",
    "camaroEngine = cardf[cardf['car']=='Camaro']['engine_hp'].values"
   ]
  },
  {
   "cell_type": "code",
   "execution_count": 169,
   "metadata": {},
   "outputs": [
    {
     "data": {
      "text/plain": [
       "([<matplotlib.axis.YTick at 0x7fbdd78a1f60>,\n",
       "  <matplotlib.axis.YTick at 0x7fbdd78a1828>,\n",
       "  <matplotlib.axis.YTick at 0x7fbdd78b7e80>],\n",
       " <a list of 3 Text yticklabel objects>)"
      ]
     },
     "execution_count": 169,
     "metadata": {},
     "output_type": "execute_result"
    },
    {
     "data": {
      "image/png": "[encoded data removed]",
      "text/plain": [
       "<Figure size 432x288 with 1 Axes>"
      ]
     },
     "metadata": {
      "needs_background": "light"
     },
     "output_type": "display_data"
    }
   ],
   "source": [
    "##Which car has several points in the box plot's far right upper quartile for the engine's horsepower ?\n",
    "## Appears to be Mustang\n",
    "plt.boxplot([corvetteEngine,mustangEngine,camaroEngine],0,'bs',0)\n",
    "plt.xlabel('Horsepower')\n",
    "plt.ylabel('Car')\n",
    "plt.title('Boxplot of Horsepower of cars')\n",
    "plt.yticks([1, 2,3], ['Corvette', 'Mustang','Camaro'])"
   ]
  },
  {
   "cell_type": "code",
   "execution_count": null,
   "metadata": {},
   "outputs": [],
   "source": []
  }
 ],
 "metadata": {
  "kernelspec": {
   "display_name": "conda_pytorch_latest_p36",
   "language": "python",
   "name": "conda_pytorch_latest_p36"
  },
  "language_info": {
   "codemirror_mode": {
    "name": "ipython",
    "version": 3
   },
   "file_extension": ".py",
   "mimetype": "text/x-python",
   "name": "python",
   "nbconvert_exporter": "python",
   "pygments_lexer": "ipython3",
   "version": "3.6.10"
  }
 },
 "nbformat": 4,
 "nbformat_minor": 4
}
